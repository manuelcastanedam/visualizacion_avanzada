{
 "cells": [
  {
   "cell_type": "markdown",
   "id": "0f812401",
   "metadata": {},
   "source": [
    "# Master BigData UCM 2023"
   ]
  },
  {
   "cell_type": "markdown",
   "id": "6833d36a",
   "metadata": {
    "id": "6833d36a"
   },
   "source": [
    "## 1. Datos COVID\n",
    "\n"
   ]
  },
  {
   "cell_type": "code",
   "execution_count": null,
   "id": "2f22ebd3",
   "metadata": {},
   "outputs": [],
   "source": [
    "import pandas as pd\n",
    "import matplotlib.pyplot as plt\n",
    "import seaborn as sns"
   ]
  },
  {
   "cell_type": "markdown",
   "id": "dc45e38a",
   "metadata": {},
   "source": [
    "### Carga de datos\n",
    "\n",
    "A partir del fichero ya guardado en disco de su lectura y primer pre-proceso"
   ]
  },
  {
   "cell_type": "code",
   "execution_count": null,
   "id": "92cf5e9f",
   "metadata": {
    "scrolled": true
   },
   "outputs": [],
   "source": [
    "covid = pd.read_pickle(\"datos_covid.pkl\")"
   ]
  },
  {
   "cell_type": "code",
   "execution_count": null,
   "id": "f3fbd86e",
   "metadata": {},
   "outputs": [],
   "source": [
    "covid.shape"
   ]
  },
  {
   "cell_type": "code",
   "execution_count": null,
   "id": "84d30206",
   "metadata": {
    "scrolled": true
   },
   "outputs": [],
   "source": [
    "covid.describe(include = 'all')"
   ]
  },
  {
   "cell_type": "markdown",
   "id": "6b47303b",
   "metadata": {},
   "source": [
    "# 2. Heatmap con seaborn\n",
    "\n",
    "Además del contenido recogido en la docu. teórica:\n",
    "\n",
    "https://seaborn.pydata.org/tutorial.html\n",
    "\n",
    "es aconsejable seguir este excelente (y práctico) tutorial:\n",
    "\n",
    "https://pythonbasics.org/seaborn-heatmap/\n"
   ]
  },
  {
   "cell_type": "markdown",
   "id": "9e953946",
   "metadata": {},
   "source": [
    "## 2.1 Barplot por sexo y edad\n",
    "\n"
   ]
  },
  {
   "cell_type": "code",
   "execution_count": null,
   "id": "d8d4b16c",
   "metadata": {},
   "outputs": [],
   "source": [
    "#covid2 = covid.drop(['fecha', 'sexo'], axis = 1)\n"
   ]
  },
  {
   "cell_type": "code",
   "execution_count": null,
   "id": "8e09d87d",
   "metadata": {},
   "outputs": [],
   "source": [
    "covid2 = covid.groupby(['provincia_iso', \n",
    "                        'grupo_edad']).sum(numeric_only = True)\n",
    "covid2 = pd.DataFrame(covid2.to_records())\n"
   ]
  },
  {
   "cell_type": "code",
   "execution_count": null,
   "id": "2fc6c9f9",
   "metadata": {},
   "outputs": [],
   "source": [
    "covid2.head()"
   ]
  },
  {
   "cell_type": "code",
   "execution_count": null,
   "id": "8fc0f5c2",
   "metadata": {},
   "outputs": [],
   "source": [
    "covid2_hosp = covid2[['provincia_iso',\n",
    "                      'grupo_edad',\n",
    "                      'num_hosp']]"
   ]
  },
  {
   "cell_type": "code",
   "execution_count": null,
   "id": "11550969",
   "metadata": {},
   "outputs": [],
   "source": [
    "covid2_hosp.head()"
   ]
  },
  {
   "cell_type": "code",
   "execution_count": null,
   "id": "16fd5a5d",
   "metadata": {},
   "outputs": [],
   "source": [
    "covid2_hosp = covid2_hosp.pivot(index = \"provincia_iso\", \n",
    "                                columns = \"grupo_edad\", \n",
    "                                values = \"num_hosp\")\n"
   ]
  },
  {
   "cell_type": "code",
   "execution_count": null,
   "id": "f99f8f6c",
   "metadata": {},
   "outputs": [],
   "source": [
    "covid2_hosp\n"
   ]
  },
  {
   "cell_type": "code",
   "execution_count": null,
   "id": "b317484e",
   "metadata": {},
   "outputs": [],
   "source": [
    "ax = sns.heatmap(covid2_hosp)\n"
   ]
  },
  {
   "cell_type": "code",
   "execution_count": null,
   "id": "306bd9e5",
   "metadata": {},
   "outputs": [],
   "source": [
    "fig, ax = plt.subplots(figsize=(15,15))         # Sample figsize in inches\n",
    "ax = sns.heatmap(covid2_hosp)"
   ]
  },
  {
   "cell_type": "code",
   "execution_count": null,
   "id": "2d6025fb",
   "metadata": {},
   "outputs": [],
   "source": [
    "fig, ax = plt.subplots(figsize=(15,15))         # Sample figsize in inches\n",
    "paleta2 = sns.color_palette(\"rocket_r\", as_cmap=True)\n",
    "ax = sns.heatmap(covid2_hosp,\n",
    "                 cmap = paleta2, \n",
    "                 annot = True,\n",
    "                 fmt = \"g\")"
   ]
  },
  {
   "cell_type": "code",
   "execution_count": null,
   "id": "c06a49e7",
   "metadata": {},
   "outputs": [],
   "source": [
    "fig, ax = plt.subplots(figsize=(15,15))         # Sample figsize in inches\n",
    "diverging_colors = sns.color_palette(\"PiYG_r\", 20)\n",
    "ax = sns.heatmap(covid2_hosp,\n",
    "                 cmap = diverging_colors)"
   ]
  },
  {
   "cell_type": "code",
   "execution_count": null,
   "id": "79d34311",
   "metadata": {},
   "outputs": [],
   "source": [
    "fig, ax = plt.subplots(figsize=(15,15))         # Sample figsize in inches\n",
    "mypalette = sns.color_palette(\"YlOrBr\", as_cmap=True)\n",
    "ax = sns.heatmap(covid2_hosp,\n",
    "                 cmap = mypalette)"
   ]
  },
  {
   "cell_type": "code",
   "execution_count": null,
   "id": "10cc1420",
   "metadata": {},
   "outputs": [],
   "source": [
    "covid2_def = covid2[['provincia_iso',\n",
    "                      'grupo_edad',\n",
    "                      'num_def']]"
   ]
  },
  {
   "cell_type": "code",
   "execution_count": null,
   "id": "f763c98e",
   "metadata": {},
   "outputs": [],
   "source": [
    "fig, ax = plt.subplots(figsize=(15,15))         # Sample figsize in inches\n",
    "covid2_def = covid2_def.pivot(index = \"provincia_iso\", \n",
    "                              columns = \"grupo_edad\", \n",
    "                              values = \"num_def\")\n",
    "ax = sns.heatmap(covid2_def,\n",
    "                cmap = mypalette,\n",
    "                annot = True,\n",
    "                fmt = \"g\")\n"
   ]
  }
 ],
 "metadata": {
  "kernelspec": {
   "display_name": "Python 3 (ipykernel)",
   "language": "python",
   "name": "python3"
  },
  "language_info": {
   "codemirror_mode": {
    "name": "ipython",
    "version": 3
   },
   "file_extension": ".py",
   "mimetype": "text/x-python",
   "name": "python",
   "nbconvert_exporter": "python",
   "pygments_lexer": "ipython3",
   "version": "3.10.12"
  }
 },
 "nbformat": 4,
 "nbformat_minor": 5
}
