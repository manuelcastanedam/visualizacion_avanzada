{
 "cells": [
  {
   "cell_type": "markdown",
   "id": "0f812401",
   "metadata": {},
   "source": [
    "# Master BigData UCM 2023"
   ]
  },
  {
   "cell_type": "markdown",
   "id": "6833d36a",
   "metadata": {
    "id": "6833d36a"
   },
   "source": [
    "## AGRADECIMIENTOS\n",
    "\n",
    "Este script está basado en el trabajo de Diva Flores, alumna de la clase 2 del máster. Quiero agradecerla aquí el gran trabajo que realizó para localizar los datos de población y su pre-proceso, que no es trivial, como veréis\n",
    "\n"
   ]
  },
  {
   "cell_type": "markdown",
   "id": "d4ee7e9f",
   "metadata": {},
   "source": [
    "# Visualización Avanzada\n",
    "En el presente trabajo se analizarán los datos de COVID-19 que se obtienen a partir de la declaración de los casos a la Red Nacional de Vigilancia Epidemiológica (RENAVE) a través de la plataforma informática vía Web SiViES (Sistema de Vigilancia de España) que gestiona el Centro Nacional de Epidemiología (CNE). Estos datos corresponden al periodo comprendido entre el inicio de la pandemia (enero-2020) hasta el 28 de marzo de 2022.\n",
    "\n",
    "Para realizar algunos cálculos más específicos utilizaremos datos del INE, específicamente de población por provincia y franja etaria de los últimos tres años (2020, 2021 y 2022) y los datos de polígonos que correspoden a las representaciones gráficas de las provincias de España.\n",
    "\n",
    "**Para empezar, importamos las librerías que utilizaremos para este análisis.**"
   ]
  },
  {
   "cell_type": "code",
   "execution_count": null,
   "id": "fb33ab20",
   "metadata": {},
   "outputs": [],
   "source": [
    "import pandas as pd\n",
    "import matplotlib.pyplot as plt\n",
    "%matplotlib inline\n",
    "import seaborn as sns\n",
    "#import geopandas as gpd\n",
    "import matplotlib.pyplot as plt\n",
    "import warnings\n",
    "warnings.filterwarnings(\"ignore\")\n",
    "from datetime import date\n",
    "from datetime import datetime\n"
   ]
  },
  {
   "cell_type": "markdown",
   "id": "c82da8d0",
   "metadata": {},
   "source": [
    "### Lectura de datasets\n",
    "Realizamos la lectura de los datasets de Covid y provincias (previamente descargados) y realizamos unos primeros ajustes a los mismos.\n",
    "\n",
    "Los archivos se encuentran en el mismo repositorio github del presente notebook."
   ]
  },
  {
   "cell_type": "code",
   "execution_count": null,
   "id": "a144eb95",
   "metadata": {
    "scrolled": true
   },
   "outputs": [],
   "source": [
    "covid = pd.read_csv(r'casos_hosp_uci_def_sexo_edad_provres.csv')\n",
    "prv = pd.read_csv(r'provinces_es.csv')\n",
    "# geo_prv = r'SP_provincias.geojson'\n"
   ]
  },
  {
   "cell_type": "markdown",
   "id": "88e04c54",
   "metadata": {},
   "source": [
    "**Realizamos una pre-visualización del contenido**"
   ]
  },
  {
   "cell_type": "code",
   "execution_count": null,
   "id": "bc35e412",
   "metadata": {},
   "outputs": [],
   "source": [
    "covid.head()"
   ]
  },
  {
   "cell_type": "code",
   "execution_count": null,
   "id": "44e134a6",
   "metadata": {},
   "outputs": [],
   "source": [
    "prv.head()"
   ]
  },
  {
   "cell_type": "markdown",
   "id": "1c6db4f8",
   "metadata": {},
   "source": [
    "**Empezamos uniendo nuestros datasets de covid y provincias, mediante el código \"provincia_iso\" (en covid) o \"code\" en prv**"
   ]
  },
  {
   "cell_type": "code",
   "execution_count": null,
   "id": "c18bfed4",
   "metadata": {},
   "outputs": [],
   "source": [
    "cov_prv = covid.merge(prv, \n",
    "                      how='left', \n",
    "                      left_on='provincia_iso', \n",
    "                      right_on='code', \n",
    "                      suffixes=('_cov', '_prv'))"
   ]
  },
  {
   "cell_type": "code",
   "execution_count": null,
   "id": "5ec268a4",
   "metadata": {},
   "outputs": [],
   "source": [
    "cov_prv.head()"
   ]
  },
  {
   "cell_type": "markdown",
   "id": "30b238aa",
   "metadata": {},
   "source": [
    "**Realizamos algunos formateos a los datos, para que nos ayuden en las visualizaciones posteriores, y eliminamos variables que no se van a usar**"
   ]
  },
  {
   "cell_type": "code",
   "execution_count": null,
   "id": "7387ac8c",
   "metadata": {},
   "outputs": [],
   "source": [
    "cov_prv['periodo'] = cov_prv['fecha'].str.slice(0, 4)\n",
    "cov_prv['periodo'] = pd.to_numeric(cov_prv['periodo'])\n",
    "cov_prv['fecha'] = pd.to_datetime(covid['fecha'], \n",
    "                                  format = '%Y-%m-%d', \n",
    "                                  errors = 'coerce')\n",
    "cov_prv['semana'] = cov_prv['fecha'].dt.isocalendar().week\n",
    "\n",
    "cov_prv.drop(['name', 'phone_code', 'iso2'], \n",
    "             axis = 'columns', \n",
    "             inplace=True)\n",
    "cov_prv.rename(columns={'grupo_edad': 'franja_etaria'}, \n",
    "               inplace=True)\n",
    "cov_prv.head()"
   ]
  },
  {
   "cell_type": "markdown",
   "id": "61caa053",
   "metadata": {},
   "source": [
    "**Realizamos la importación de los datos de población de cada provincia, correspondientes a los años 2020, 2021 y 2022.**\n",
    "\n",
    "**Luego uniremos las tres fuentes en un único dataset.**\n",
    "\n",
    "**IMPORTANTE: veréis que se leen directamente los datos, especificando que la coma es el separador decimal, y el punto los miles**"
   ]
  },
  {
   "cell_type": "code",
   "execution_count": null,
   "id": "31821408",
   "metadata": {},
   "outputs": [],
   "source": [
    "pob_esp2020 = pd.read_csv(r'PoblacionEspana-Provincia_2020.csv',\n",
    "                          sep=';',\n",
    "                          encoding='latin-1'\n",
    "                          ,\n",
    "                          decimal = ',',\n",
    "                          thousands = '.'\n",
    "                         )\n"
   ]
  },
  {
   "cell_type": "code",
   "execution_count": null,
   "id": "bbc0523f",
   "metadata": {},
   "outputs": [],
   "source": [
    "pob_esp2020.head()"
   ]
  },
  {
   "cell_type": "code",
   "execution_count": null,
   "id": "a9f61191",
   "metadata": {},
   "outputs": [],
   "source": [
    "pob_esp2020.describe(include = 'all')"
   ]
  },
  {
   "cell_type": "code",
   "execution_count": null,
   "id": "faa83780",
   "metadata": {},
   "outputs": [],
   "source": [
    "pob_esp2021 = pd.read_csv(r'PoblacionEspana-Provincia_2021.csv',\n",
    "                          sep=';',\n",
    "                          encoding='latin-1'\n",
    "                          ,\n",
    "                          decimal = ',',\n",
    "                          thousands = '.'\n",
    "                         )\n"
   ]
  },
  {
   "cell_type": "code",
   "execution_count": null,
   "id": "3ecead4c",
   "metadata": {},
   "outputs": [],
   "source": [
    "pob_esp2022 = pd.read_csv(r'PoblacionEspana-Provincia_2022.csv',\n",
    "                          sep=';',\n",
    "                          encoding='latin-1'\n",
    "                          ,\n",
    "                          decimal = ',',\n",
    "                          thousands = '.'\n",
    "                         )\n"
   ]
  },
  {
   "cell_type": "code",
   "execution_count": null,
   "id": "750268bc",
   "metadata": {},
   "outputs": [],
   "source": [
    "pob_esp = pd.concat([pob_esp2020, pob_esp2021, pob_esp2022])\n",
    "pob_esp.head(3)"
   ]
  },
  {
   "cell_type": "markdown",
   "id": "2d54bbab",
   "metadata": {},
   "source": [
    "**A continuación simplemente cambiamos nombres de variables en pob_esp para facilitarnos mezclas o análisis posteriores**"
   ]
  },
  {
   "cell_type": "code",
   "execution_count": null,
   "id": "78ecaca5",
   "metadata": {},
   "outputs": [],
   "source": [
    "pob_esp.rename(columns={'Edad Simple': 'edad', \n",
    "                        'Provincias': 'provincia', \n",
    "                        'Sexo':'sexo', \n",
    "                        'Periodo':'periodo', \n",
    "                        'Total':'total'}, \n",
    "               inplace=True)"
   ]
  },
  {
   "cell_type": "markdown",
   "id": "758a54ef",
   "metadata": {},
   "source": [
    "**A continuación extraemos el código postal de los dos primeros caracteres de la columna \"provincia\". Los pasamos  numéricos porque es el formato que tenemos en cov_prv**"
   ]
  },
  {
   "cell_type": "code",
   "execution_count": null,
   "id": "82c0c975",
   "metadata": {},
   "outputs": [],
   "source": [
    "pob_esp['postal_code'] = pob_esp['provincia'].str.slice(0, 2)\n",
    "pob_esp['postal_code'] = pd.to_numeric(pob_esp['postal_code'])"
   ]
  },
  {
   "cell_type": "markdown",
   "id": "10c28004",
   "metadata": {},
   "source": [
    "**Debemos tener los mismos códigos para hombre y mujer en pob_esp y en cov_prv**"
   ]
  },
  {
   "cell_type": "code",
   "execution_count": null,
   "id": "70ed7569",
   "metadata": {},
   "outputs": [],
   "source": [
    "pob_esp.loc[pob_esp['sexo'] == 'Hombres', 'sexo'] = 'H'\n",
    "pob_esp.loc[pob_esp['sexo'] == 'Mujeres', 'sexo'] = 'M'"
   ]
  },
  {
   "cell_type": "markdown",
   "id": "8690cb8d",
   "metadata": {},
   "source": [
    "**Este es quizás el punto más extraño: Para tener la edad solo con el número -p. ej. 0 años: 0- separamos toda la cadena edad, de tal manera que nos extraerá tantas columnas como palabras separadas encuentra. Encuenra 4 columnas porque la última es \"100 años y más\".**\n",
    "\n",
    "**Luego se pasan los números a numeric**"
   ]
  },
  {
   "cell_type": "code",
   "execution_count": null,
   "id": "551913f8",
   "metadata": {},
   "outputs": [],
   "source": [
    "datos = pob_esp['edad'].str.split(expand=True)\n",
    "datos.columns = ['edad2', 'edad3', 'edad4', 'edad5']\n",
    "pob_esp = pd.concat([pob_esp, datos], axis=1)\n",
    "pob_esp.drop(['edad3', 'edad4', 'edad5'], \n",
    "             axis = 'columns', \n",
    "             inplace=True)\n",
    "pob_esp['edad2'] = pd.to_numeric(pob_esp['edad2'])\n",
    "pob_esp.head(3)"
   ]
  },
  {
   "cell_type": "markdown",
   "id": "3570cc85",
   "metadata": {},
   "source": [
    "**Definimos los rangos de edad igual que están en cov_prv**"
   ]
  },
  {
   "cell_type": "code",
   "execution_count": null,
   "id": "c091a626",
   "metadata": {},
   "outputs": [],
   "source": [
    "def franja_etaria(edad):\n",
    "    if edad < 10:\n",
    "        franja = '0-9'\n",
    "    elif edad < 20:\n",
    "        franja = '10-19'\n",
    "    elif edad < 30:\n",
    "        franja = '20-29'\n",
    "    elif edad < 40:\n",
    "        franja = '30-39'\n",
    "    elif edad < 50:\n",
    "        franja = '40-49'\n",
    "    elif edad < 60:\n",
    "        franja = '50-59'\n",
    "    elif edad < 70:\n",
    "        franja = '60-69'\n",
    "    elif edad < 80:\n",
    "        franja = '70-79'\n",
    "    else:\n",
    "        franja = '80+'\n",
    "    return franja"
   ]
  },
  {
   "cell_type": "code",
   "execution_count": null,
   "id": "ee2afec0",
   "metadata": {},
   "outputs": [],
   "source": [
    "pob_esp['franja_etaria'] = pob_esp['edad2'].apply(franja_etaria)"
   ]
  },
  {
   "cell_type": "markdown",
   "id": "3b8d8923",
   "metadata": {},
   "source": [
    "**Por último dejamos nada más el año en la variable periodo**"
   ]
  },
  {
   "cell_type": "code",
   "execution_count": null,
   "id": "ecf104c5",
   "metadata": {},
   "outputs": [],
   "source": [
    "separado = pob_esp['periodo'].str.split(' ', expand=True)\n",
    "pob_esp['periodo']= separado[4]\n",
    "pob_esp['periodo'] = pd.to_numeric(pob_esp['periodo'])\n",
    "pob_esp.head(3)"
   ]
  },
  {
   "cell_type": "markdown",
   "id": "fa5af666",
   "metadata": {},
   "source": [
    "**A continuación, agrupamos los datos de poblacion por año y provincia, para cruzarlo con nuestro dataset de casos de Covid.**"
   ]
  },
  {
   "cell_type": "code",
   "execution_count": null,
   "id": "510e222a",
   "metadata": {},
   "outputs": [],
   "source": [
    "poblacion00 = pob_esp.groupby(['periodo', \n",
    "                             'provincia', \n",
    "                             'postal_code',\n",
    "                             'franja_etaria'\n",
    "                            ]).agg({'total':'sum'}).reset_index()\n",
    "poblacion00.head()"
   ]
  },
  {
   "cell_type": "code",
   "execution_count": null,
   "id": "09116b8a",
   "metadata": {},
   "outputs": [],
   "source": [
    "poblacion = poblacion00.merge(prv, \n",
    "                        how='left', \n",
    "                        left_on='postal_code', \n",
    "                        right_on='postal_code',\n",
    "                        suffixes=('_cov', '_prv'))"
   ]
  },
  {
   "cell_type": "code",
   "execution_count": null,
   "id": "a2f13578",
   "metadata": {},
   "outputs": [],
   "source": [
    "poblacion.head()"
   ]
  },
  {
   "cell_type": "markdown",
   "id": "e269ebd6",
   "metadata": {},
   "source": [
    "### Incidencia Acumulada a 14 días por cada 100.000 habitantes\n",
    "Calculamos la IA a 14 días por cada cien mil habitantes."
   ]
  },
  {
   "cell_type": "code",
   "execution_count": null,
   "id": "82925fcb",
   "metadata": {},
   "outputs": [],
   "source": [
    "sum_cov = cov_prv.groupby(['fecha', 'periodo']).agg({'num_casos':'sum'})"
   ]
  },
  {
   "cell_type": "code",
   "execution_count": null,
   "id": "20134cc3",
   "metadata": {},
   "outputs": [],
   "source": [
    "sum_cov.describe(include = 'all')"
   ]
  },
  {
   "cell_type": "code",
   "execution_count": null,
   "id": "2fe8b688",
   "metadata": {},
   "outputs": [],
   "source": [
    "def buildLaggedFeatures(s, lag=2, dropna=True):\n",
    "    if type(s) is pd.DataFrame:\n",
    "        new_dict={}\n",
    "        for col_name in s:\n",
    "            new_dict[col_name]=s[col_name]\n",
    "            for l in range(1,lag+1):\n",
    "                new_dict['%s_%d' %(col_name,l)]=s[col_name].shift(l)\n",
    "        res=pd.DataFrame(new_dict,index=s.index)\n",
    "\n",
    "    elif type(s) is pd.Series:\n",
    "        the_range=range(lag+1)\n",
    "        res=pd.concat([s.shift(i) for i in the_range],axis=1)\n",
    "        res.columns=['_%d' %i for i in the_range]\n",
    "    else:\n",
    "        print ('Only works for DataFrame or Series')\n",
    "        return None\n",
    "    if dropna:\n",
    "        return res.dropna()\n",
    "    else:\n",
    "        return res"
   ]
  },
  {
   "cell_type": "code",
   "execution_count": null,
   "id": "f4c5b3c9",
   "metadata": {},
   "outputs": [],
   "source": [
    "casos_trend = buildLaggedFeatures(sum_cov,lag=13,dropna=False)"
   ]
  },
  {
   "cell_type": "code",
   "execution_count": null,
   "id": "62610055",
   "metadata": {},
   "outputs": [],
   "source": [
    "casos_trend = casos_trend.reset_index()"
   ]
  },
  {
   "cell_type": "code",
   "execution_count": null,
   "id": "191dd689",
   "metadata": {},
   "outputs": [],
   "source": [
    "casos_trend2 = pd.melt(casos_trend, \n",
    "                       id_vars=['fecha', 'periodo'], \n",
    "                       value_vars=['num_casos', 'num_casos_1', 'num_casos_2','num_casos_3', 'num_casos_4', \n",
    "                                   'num_casos_5', 'num_casos_6', 'num_casos_7', 'num_casos_8', 'num_casos_9', \n",
    "                                   'num_casos_10', 'num_casos_11', 'num_casos_12', 'num_casos_13'])"
   ]
  },
  {
   "cell_type": "code",
   "execution_count": null,
   "id": "61ce2b1e",
   "metadata": {},
   "outputs": [],
   "source": [
    "casos_trend2 = casos_trend2.groupby(['fecha', 'periodo']).agg({'value':'sum'}).reset_index()\n",
    "pob = poblacion.groupby(['periodo']).agg({'total':'sum'}).reset_index()\n",
    "casos_trend_pob = casos_trend2.merge(pob, how='left', left_on='periodo', right_on='periodo')\n",
    "casos_trend_pob['ia14d'] = casos_trend_pob['value']/casos_trend_pob['total']*100000\n",
    "casos_trend_pob.head()"
   ]
  },
  {
   "cell_type": "markdown",
   "id": "5e421cac",
   "metadata": {},
   "source": [
    "**Visualizamos la tendencia de la IA**"
   ]
  },
  {
   "cell_type": "code",
   "execution_count": null,
   "id": "5a5f03fa",
   "metadata": {},
   "outputs": [],
   "source": [
    "from plotnine import *"
   ]
  },
  {
   "cell_type": "code",
   "execution_count": null,
   "id": "76203e4e",
   "metadata": {
    "scrolled": true
   },
   "outputs": [],
   "source": [
    "(\n",
    "    ggplot(casos_trend_pob)  \n",
    "    + aes(x = 'fecha', \n",
    "          y = 'ia14d')   \n",
    "    #+ geom_rect(data=df, mapping=aes(xmin=df.x1, xmax=df.x2, ymin=0, ymax=80000, fill=df.r), color=\"black\", alpha=0.5)\n",
    "    + geom_smooth(method = \"lowess\", \n",
    "                  span = 0.05)\n",
    "\n",
    "    #+ geom_hline(yintercept = 500, size = 0.5, linetype = 'dotted')\n",
    "    + geom_hline(yintercept = 500, size = 0.5, linetype = 'dotted')\n",
    "    + geom_vline(xintercept = '2020-03-15', size = 0.5, linetype = 'dotted')\n",
    "    + geom_vline(xintercept = '2020-06-25', size = 0.5, linetype = 'dotted')\n",
    "    + geom_vline(xintercept = '2020-12-10', size = 0.5, linetype = 'dotted')\n",
    "    + geom_vline(xintercept = '2021-03-17', size = 0.5, linetype = 'dotted')\n",
    "    + geom_vline(xintercept = '2021-06-23', size = 0.5, linetype = 'dotted')\n",
    "    + geom_vline(xintercept = '2021-10-14', size = 0.5, linetype = 'dotted')\n",
    "    + theme(figure_size=(8, 4),\n",
    "            axis_text_x = element_text(angle = 45,\n",
    "                                      hjust = 1,\n",
    "                                      size = 8))\n",
    "    + annotate('text', x='2020-02-10', y=600, label='Riesgo muy alto', size=9, color='red')\n",
    "    + annotate('text', x='2020-05-08', y=3000, label='Primera\\nola', size=9, color='blue')\n",
    "    + annotate('text', x='2020-09-18', y=3000, label='Segunda\\nola', size=9, color='blue')\n",
    "    + annotate('text', x='2021-01-27', y=3000, label='Tercera\\nola', size=9, color='blue')\n",
    "    + annotate('text', x='2021-05-05', y=3000, label='Cuarta\\nola', size=9, color='blue')\n",
    "    + annotate('text', x='2021-08-15', y=3000, label='Quinta\\nola', size=9, color='blue')\n",
    "    + annotate('text', x='2022-03-10', y=3000, label='Sexta\\nola', size=9, color='blue')\n",
    "    + labs(title='Evolución IA a 14d por 100.000 hab.', x='Fecha', y='IA14d')\n",
    ")\n"
   ]
  },
  {
   "cell_type": "markdown",
   "id": "0dcd4feb",
   "metadata": {},
   "source": [
    "Se visualizan picos en determinados momentos de la pandemia, que corresponden a las diferentes olas, notándose especialmente la correspondiente a la sexta ola de la pandemia."
   ]
  },
  {
   "cell_type": "markdown",
   "id": "6f7271c6",
   "metadata": {},
   "source": [
    "## Población de cada franja etaria para cada provincia"
   ]
  },
  {
   "cell_type": "markdown",
   "id": "12a29fa4",
   "metadata": {},
   "source": [
    "**Si anteriormente habíamos hecho el groupby de preparación de datos por fecha y periodo, ahora lo haremos por periodo y franja_etaria. Esto se debe a que queremos visualizar**"
   ]
  },
  {
   "cell_type": "code",
   "execution_count": null,
   "id": "478887bc",
   "metadata": {},
   "outputs": [],
   "source": [
    "cov_prv.head()"
   ]
  },
  {
   "cell_type": "code",
   "execution_count": null,
   "id": "fadde280",
   "metadata": {},
   "outputs": [],
   "source": [
    "cov_prv.describe(include = 'all')"
   ]
  },
  {
   "cell_type": "code",
   "execution_count": null,
   "id": "e9609238",
   "metadata": {},
   "outputs": [],
   "source": [
    "casos_franja_periodo = cov_prv.groupby(['periodo',\n",
    "                                        'franja_etaria',\n",
    "                                        'provincia_iso']).agg({'num_casos':'sum',\n",
    "                                                               'num_hosp':'sum', \n",
    "                                                               'num_uci':'sum', \n",
    "                                                               'num_def':'sum'}).reset_index()"
   ]
  },
  {
   "cell_type": "code",
   "execution_count": null,
   "id": "b4a3a26c",
   "metadata": {},
   "outputs": [],
   "source": [
    "casos_franja_periodo.head()"
   ]
  },
  {
   "cell_type": "markdown",
   "id": "795dc095",
   "metadata": {},
   "source": [
    "**Hacemos un merge para incorporar a nuestros datos de covid, ya agrupados, los datos de población por provincia y periodo**"
   ]
  },
  {
   "cell_type": "code",
   "execution_count": null,
   "id": "be31e7fe",
   "metadata": {},
   "outputs": [],
   "source": [
    "poblacion.head()"
   ]
  },
  {
   "cell_type": "code",
   "execution_count": null,
   "id": "44d5cc82",
   "metadata": {},
   "outputs": [],
   "source": [
    "poblacion.describe(include = 'all')"
   ]
  },
  {
   "cell_type": "code",
   "execution_count": null,
   "id": "4b4b506a",
   "metadata": {},
   "outputs": [],
   "source": [
    "casos_franja_periodo = casos_franja_periodo.merge(poblacion,\n",
    "                                                  how='left', \n",
    "                                                  left_on=['periodo', \n",
    "                                                           'franja_etaria',\n",
    "                                                           'provincia_iso'],\n",
    "                                                  right_on=['periodo', \n",
    "                                                           'franja_etaria',\n",
    "                                                           'code'])"
   ]
  },
  {
   "cell_type": "code",
   "execution_count": null,
   "id": "fcec0e47",
   "metadata": {},
   "outputs": [],
   "source": [
    "casos_franja_periodo.rename(columns={'total':'poblacion'}, inplace=True)"
   ]
  },
  {
   "cell_type": "code",
   "execution_count": null,
   "id": "f0c8649e",
   "metadata": {},
   "outputs": [],
   "source": [
    "casos_franja_periodo.head()"
   ]
  },
  {
   "cell_type": "markdown",
   "id": "eea08127",
   "metadata": {},
   "source": [
    "**Eliminamos NC y calculamos ratios de incidencia etc. por población para cada provincia y franja etaria**"
   ]
  },
  {
   "cell_type": "code",
   "execution_count": null,
   "id": "a6f6d2e6",
   "metadata": {},
   "outputs": [],
   "source": [
    "casos_franja_periodo = casos_franja_periodo[casos_franja_periodo['franja_etaria']!='NC']\n",
    "casos_franja_periodo['casos_x_cienmil'] = casos_franja_periodo['num_casos']/casos_franja_periodo['poblacion'] * 100000\n",
    "casos_franja_periodo['hosp_x_cienmil'] = casos_franja_periodo['num_hosp']/casos_franja_periodo['poblacion'] * 100000\n",
    "casos_franja_periodo['uci_x_cienmil'] = casos_franja_periodo['num_uci']/casos_franja_periodo['poblacion'] * 100000\n",
    "casos_franja_periodo['def_x_cienmil'] = casos_franja_periodo['num_def']/casos_franja_periodo['poblacion'] * 100000"
   ]
  },
  {
   "cell_type": "code",
   "execution_count": null,
   "id": "657fd098",
   "metadata": {},
   "outputs": [],
   "source": [
    "# Drop row that has all NaN values\n",
    "casos_franja_periodo = casos_franja_periodo.dropna(how='all').reset_index(drop=True)\n",
    "\n"
   ]
  },
  {
   "cell_type": "code",
   "execution_count": null,
   "id": "12543092",
   "metadata": {},
   "outputs": [],
   "source": [
    "casos_franja_periodo['periodo'] = casos_franja_periodo['periodo'].astype({'periodo': 'str'})"
   ]
  },
  {
   "cell_type": "code",
   "execution_count": null,
   "id": "6216722a",
   "metadata": {},
   "outputs": [],
   "source": [
    "casos_franja_periodo.describe(include = 'all')"
   ]
  },
  {
   "cell_type": "markdown",
   "id": "4abae707",
   "metadata": {},
   "source": [
    "## Heatmap (seaborn) de incidencia por provincia y por franja de edad"
   ]
  },
  {
   "cell_type": "markdown",
   "id": "f71f830a",
   "metadata": {},
   "source": [
    "**Es importante señalar que ahora tenemos los datos ya proporcionales a población por**\n",
    "\n",
    "**- franja etaria**\n",
    "**- provincia**\n",
    "**- año (2020, 21, 22)**\n",
    "\n",
    "**y además para cada indicador: casos, hosp, uci, def**\n",
    "\n",
    "**A continuación elegiremos un año**"
   ]
  },
  {
   "cell_type": "code",
   "execution_count": null,
   "id": "d0d16887",
   "metadata": {},
   "outputs": [],
   "source": [
    "casos_2020 = casos_franja_periodo.loc[(casos_franja_periodo['franja_etaria'] !='NC')\n",
    "                                      & (casos_franja_periodo['periodo'] == '2020')]"
   ]
  },
  {
   "cell_type": "markdown",
   "id": "92d2ddc3",
   "metadata": {},
   "source": [
    "**Y hacemos un pivot para preparar nuestros datos eligiendo únicamente el indicador de núm. (proporcional) de casos**"
   ]
  },
  {
   "cell_type": "code",
   "execution_count": null,
   "id": "341f9d39",
   "metadata": {},
   "outputs": [],
   "source": [
    "casos_2020_heatmap = casos_2020.pivot(index = 'name', \n",
    "                                      columns = 'franja_etaria', \n",
    "                                      values = 'casos_x_cienmil'\n",
    "                                      )\n"
   ]
  },
  {
   "cell_type": "code",
   "execution_count": null,
   "id": "0ea50509",
   "metadata": {},
   "outputs": [],
   "source": [
    "# Drop row that has all NaN values\n",
    "casos_2020_heatmap = casos_2020_heatmap.dropna(how='all')\n",
    "\n"
   ]
  },
  {
   "cell_type": "code",
   "execution_count": null,
   "id": "191bcd1b",
   "metadata": {},
   "outputs": [],
   "source": [
    "casos_2020_heatmap.head()"
   ]
  },
  {
   "cell_type": "code",
   "execution_count": null,
   "id": "8278a894",
   "metadata": {
    "scrolled": true
   },
   "outputs": [],
   "source": [
    "fig, ax = plt.subplots(figsize=(15,15))        \n",
    "#mypalette = sns.color_palette(\"YlOrBr\", as_cmap=True)\n",
    "ax = sns.heatmap(casos_2020_heatmap\n",
    "                , cmap = 'Oranges'\n",
    "                #, annot=True\n",
    "                , linewidth=.5\n",
    "                )\n",
    "ax.xaxis.tick_top()\n",
    "ax.set_title('Contagios por 100000 (2020)', fontsize =20)\n",
    "plt.xlabel('Franja etaria') \n",
    "plt.ylabel('Provincias') \n",
    "\n"
   ]
  },
  {
   "cell_type": "markdown",
   "id": "e17e6d04",
   "metadata": {},
   "source": [
    "**Veamos las diferencias por UCI**"
   ]
  },
  {
   "cell_type": "code",
   "execution_count": null,
   "id": "674584d4",
   "metadata": {},
   "outputs": [],
   "source": [
    "uci_2020_heatmap = casos_2020.pivot(index = 'name', \n",
    "                                      columns = 'franja_etaria', \n",
    "                                      values = 'uci_x_cienmil'\n",
    "                                      )\n"
   ]
  },
  {
   "cell_type": "code",
   "execution_count": null,
   "id": "88bbca3c",
   "metadata": {},
   "outputs": [],
   "source": [
    "# Drop row that has all NaN values\n",
    "uci_2020_heatmap = uci_2020_heatmap.dropna(how='all')\n"
   ]
  },
  {
   "cell_type": "code",
   "execution_count": null,
   "id": "3f95b87e",
   "metadata": {
    "scrolled": true
   },
   "outputs": [],
   "source": [
    "fig, ax = plt.subplots(figsize=(15,15))        \n",
    "#mypalette = sns.color_palette(\"YlOrBr\", as_cmap=True)\n",
    "ax2 = sns.heatmap(uci_2020_heatmap\n",
    "                , cmap = 'Oranges'\n",
    "                #, annot=True\n",
    "                , linewidth=.5\n",
    "                )\n",
    "ax2.xaxis.tick_top()\n",
    "ax2.set_title('UCI por 100000 (2020)', fontsize =20)\n",
    "plt.xlabel('Franja etaria') \n",
    "plt.ylabel('Provincias') \n",
    "\n"
   ]
  },
  {
   "cell_type": "code",
   "execution_count": null,
   "id": "90bc5132",
   "metadata": {},
   "outputs": [],
   "source": []
  }
 ],
 "metadata": {
  "kernelspec": {
   "display_name": "Python 3 (ipykernel)",
   "language": "python",
   "name": "python3"
  },
  "language_info": {
   "codemirror_mode": {
    "name": "ipython",
    "version": 3
   },
   "file_extension": ".py",
   "mimetype": "text/x-python",
   "name": "python",
   "nbconvert_exporter": "python",
   "pygments_lexer": "ipython3",
   "version": "3.10.12"
  }
 },
 "nbformat": 4,
 "nbformat_minor": 5
}
