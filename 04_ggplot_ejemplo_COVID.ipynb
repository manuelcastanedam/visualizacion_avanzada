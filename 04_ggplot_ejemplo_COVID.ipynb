{
 "cells": [
  {
   "cell_type": "markdown",
   "id": "0f812401",
   "metadata": {},
   "source": [
    "# Master BigData UCM 2023"
   ]
  },
  {
   "cell_type": "markdown",
   "id": "6833d36a",
   "metadata": {
    "id": "6833d36a"
   },
   "source": [
    "## 1. Datos COVID\n",
    "\n"
   ]
  },
  {
   "cell_type": "code",
   "execution_count": null,
   "id": "2f22ebd3",
   "metadata": {},
   "outputs": [],
   "source": [
    "import pandas as pd\n",
    "import matplotlib.pyplot as plt\n",
    "import seaborn as sns"
   ]
  },
  {
   "cell_type": "code",
   "execution_count": null,
   "id": "7b01436a",
   "metadata": {},
   "outputs": [],
   "source": [
    "import plotnine\n",
    "from plotnine import *"
   ]
  },
  {
   "cell_type": "markdown",
   "id": "dc45e38a",
   "metadata": {},
   "source": [
    "### Carga de datos\n",
    "\n",
    "A partir del fichero ya guardado en disco de su lectura y primer pre-proceso"
   ]
  },
  {
   "cell_type": "code",
   "execution_count": null,
   "id": "92cf5e9f",
   "metadata": {
    "scrolled": true
   },
   "outputs": [],
   "source": [
    "covid = pd.read_pickle(\"datos_covid.pkl\")"
   ]
  },
  {
   "cell_type": "code",
   "execution_count": null,
   "id": "f3fbd86e",
   "metadata": {},
   "outputs": [],
   "source": [
    "covid.shape"
   ]
  },
  {
   "cell_type": "code",
   "execution_count": null,
   "id": "84d30206",
   "metadata": {
    "scrolled": true
   },
   "outputs": [],
   "source": [
    "covid.describe(include = 'all')"
   ]
  },
  {
   "cell_type": "markdown",
   "id": "6b47303b",
   "metadata": {},
   "source": [
    "# 2. Visualizaciones con ggplot\n",
    "\n",
    "Además del contenido recogido en la docu. teórica, es aconsejable seguir este excelente (y práctico) tutorial:\n",
    "\n",
    "https://realpython.com/ggplot-python/\n"
   ]
  },
  {
   "cell_type": "markdown",
   "id": "9e953946",
   "metadata": {},
   "source": [
    "## 2.1 Barplot por sexo y edad\n",
    "\n"
   ]
  },
  {
   "cell_type": "code",
   "execution_count": null,
   "id": "8e09d87d",
   "metadata": {},
   "outputs": [],
   "source": [
    "covid2 = covid.groupby(['sexo', 'grupo_edad']).sum(numeric_only = True)\n",
    "covid2 = pd.DataFrame(covid2.to_records())\n"
   ]
  },
  {
   "cell_type": "code",
   "execution_count": null,
   "id": "2808ff9f",
   "metadata": {},
   "outputs": [],
   "source": [
    "covid2"
   ]
  },
  {
   "cell_type": "code",
   "execution_count": null,
   "id": "6001c8ee",
   "metadata": {},
   "outputs": [],
   "source": [
    "mascara_sexo = covid2['sexo'] != 'NC'\n",
    "mascara_grupo_edad = covid2['grupo_edad'] != 'NC'\n",
    "covid2 = covid2[mascara_sexo]\n",
    "covid2 = covid2[mascara_grupo_edad]\n"
   ]
  },
  {
   "cell_type": "code",
   "execution_count": null,
   "id": "2fc6c9f9",
   "metadata": {},
   "outputs": [],
   "source": [
    "covid2"
   ]
  },
  {
   "cell_type": "code",
   "execution_count": null,
   "id": "19f2b0ad",
   "metadata": {},
   "outputs": [],
   "source": [
    "(\n",
    "ggplot(covid2)\n",
    "+ aes(x = 'grupo_edad',\n",
    "      y = 'num_hosp')\n",
    "    + geom_bar(stat = \"identity\")\n",
    ")"
   ]
  },
  {
   "cell_type": "code",
   "execution_count": null,
   "id": "13a726e4",
   "metadata": {},
   "outputs": [],
   "source": [
    "(\n",
    "ggplot(covid2)\n",
    "+ aes(x = 'grupo_edad',\n",
    "      y = 'num_uci')\n",
    "    + geom_bar(stat = \"identity\")\n",
    ")"
   ]
  },
  {
   "cell_type": "code",
   "execution_count": null,
   "id": "b5a3cd2f",
   "metadata": {
    "scrolled": true
   },
   "outputs": [],
   "source": [
    "(\n",
    "    ggplot(covid2)  # What data to use\n",
    "    + aes('grupo_edad', \n",
    "          'num_hosp',\n",
    "          fill = 'sexo')  # What variable to use\n",
    "    + geom_bar(stat = \"identity\",\n",
    "              position = 'dodge') # Geometric object to use for drawing\n",
    "   \n",
    ")"
   ]
  },
  {
   "cell_type": "code",
   "execution_count": null,
   "id": "b3993573",
   "metadata": {
    "scrolled": true
   },
   "outputs": [],
   "source": [
    "(\n",
    "    ggplot(covid2)  # What data to use\n",
    "    + aes('grupo_edad', \n",
    "          'num_casos',\n",
    "          fill = 'sexo')  # What variable to use\n",
    "    + geom_bar(stat = \"identity\",\n",
    "              position = 'dodge') # Geometric object to use for drawing\n",
    "   \n",
    ")"
   ]
  },
  {
   "cell_type": "code",
   "execution_count": null,
   "id": "b2789a57",
   "metadata": {
    "scrolled": true
   },
   "outputs": [],
   "source": [
    "grafico = (\n",
    "    ggplot(covid2)  # What data to use\n",
    "    + aes('grupo_edad', \n",
    "          'num_casos',\n",
    "          fill = 'sexo')  # What variable to use\n",
    "    + geom_bar(stat = \"identity\",\n",
    "              position = 'dodge') # Geometric object to use for drawing\n",
    "   \n",
    ")"
   ]
  },
  {
   "cell_type": "code",
   "execution_count": null,
   "id": "dddb11f2",
   "metadata": {},
   "outputs": [],
   "source": [
    "grafico2 = grafico + ( coord_flip())"
   ]
  },
  {
   "cell_type": "code",
   "execution_count": null,
   "id": "59f25c96",
   "metadata": {},
   "outputs": [],
   "source": [
    "grafico2"
   ]
  },
  {
   "cell_type": "code",
   "execution_count": null,
   "id": "a0229873",
   "metadata": {
    "scrolled": true
   },
   "outputs": [],
   "source": [
    "(\n",
    "    ggplot(covid2)  # What data to use\n",
    "    + aes('grupo_edad', \n",
    "          'num_uci',\n",
    "          fill = 'sexo')  # What variable to use\n",
    "    + geom_bar(stat = \"identity\",\n",
    "              position = 'dodge') # Geometric object to use for drawing\n",
    "    + coord_flip()\n",
    "    + scale_fill_manual(values = (\"blue\", \"pink\"))\n",
    ")"
   ]
  },
  {
   "cell_type": "code",
   "execution_count": null,
   "id": "f3871a74",
   "metadata": {},
   "outputs": [],
   "source": []
  },
  {
   "cell_type": "code",
   "execution_count": null,
   "id": "f7dbd592",
   "metadata": {
    "scrolled": true
   },
   "outputs": [],
   "source": [
    "(\n",
    "    ggplot(covid2)  # What data to use\n",
    "    + aes('grupo_edad', \n",
    "          'num_uci',\n",
    "          fill = 'sexo')  # What variable to use\n",
    "    + geom_bar(position = \"dodge\",\n",
    "               stat = \"identity\")\n",
    "    + coord_flip()# Geometric object to use for drawing\n",
    "   \n",
    ")"
   ]
  },
  {
   "cell_type": "code",
   "execution_count": null,
   "id": "77ec565e",
   "metadata": {
    "scrolled": true
   },
   "outputs": [],
   "source": [
    "(\n",
    "    ggplot(covid2)  # What data to use\n",
    "    + aes('grupo_edad', \n",
    "          'num_def',\n",
    "          fill = 'sexo')  # What variable to use\n",
    "    + geom_bar(position = \"dodge\",\n",
    "               stat = \"identity\") # Geometric object to use for drawing\n",
    "    + coord_flip()\n",
    "    + scale_fill_manual(values = (\"blue\", \"pink\"))\n",
    "   \n",
    ")"
   ]
  },
  {
   "cell_type": "code",
   "execution_count": null,
   "id": "003973fe",
   "metadata": {
    "scrolled": true
   },
   "outputs": [],
   "source": [
    "(\n",
    "    ggplot(covid2)  # What data to use\n",
    "    + aes('grupo_edad', \n",
    "          'num_def',\n",
    "          fill = 'sexo')  # What variable to use\n",
    "    + geom_bar(position = \"dodge\",\n",
    "               stat = \"identity\")\n",
    "    + scale_y_log10()# Geometric object to use for drawing\n",
    "   \n",
    ")"
   ]
  },
  {
   "cell_type": "markdown",
   "id": "4b87f0f1",
   "metadata": {},
   "source": [
    "## 2.2 Olas (series temporales)\n",
    "\n"
   ]
  },
  {
   "cell_type": "code",
   "execution_count": null,
   "id": "33ba119c",
   "metadata": {},
   "outputs": [],
   "source": [
    "covid3 = covid.groupby(['sexo', 'fecha']).sum()\n",
    "covid3 = pd.DataFrame(covid3.to_records())\n",
    "mascara_sexo = covid3['sexo'] != 'NC'\n",
    "#mascara_grupo_edad = covid3['grupo_edad'] != 'NC'\n",
    "covid3 = covid3[mascara_sexo]\n",
    "#covid2 = covid3[mascara_grupo_edad]\n"
   ]
  },
  {
   "cell_type": "code",
   "execution_count": null,
   "id": "7fe80cfc",
   "metadata": {},
   "outputs": [],
   "source": [
    "covid3.head()"
   ]
  },
  {
   "cell_type": "code",
   "execution_count": null,
   "id": "5a4b38e4",
   "metadata": {},
   "outputs": [],
   "source": [
    "(\n",
    "    ggplot(covid3)  # What data to use\n",
    "    + aes(x = \"fecha\", \n",
    "          y = \"num_casos\")  # What variable to use\n",
    "    + geom_line() \n",
    "    + theme(axis_text_x = element_text(angle = 45, \n",
    "                                       hjust = 1,\n",
    "                                       size = 10))# Geometric object to use for drawing\n",
    ")"
   ]
  },
  {
   "cell_type": "code",
   "execution_count": null,
   "id": "32729457",
   "metadata": {},
   "outputs": [],
   "source": [
    "g = (\n",
    "    ggplot(covid3)  # What data to use\n",
    "    + aes(x = \"fecha\", \n",
    "          y = \"num_casos\",\n",
    "         color = 'sexo')  # What variable to use\n",
    "    + geom_smooth(method = \"lowess\", \n",
    "                  span = 0.02)  # Geometric object to use for drawing\n",
    ")"
   ]
  },
  {
   "cell_type": "code",
   "execution_count": null,
   "id": "e5a8144e",
   "metadata": {},
   "outputs": [],
   "source": [
    "g"
   ]
  },
  {
   "cell_type": "code",
   "execution_count": null,
   "id": "94cb5b57",
   "metadata": {},
   "outputs": [],
   "source": [
    "g = g + theme(figure_size=(12, 10))"
   ]
  },
  {
   "cell_type": "code",
   "execution_count": null,
   "id": "0649e80a",
   "metadata": {},
   "outputs": [],
   "source": [
    "g"
   ]
  },
  {
   "cell_type": "code",
   "execution_count": null,
   "id": "1b6d8fea",
   "metadata": {
    "scrolled": true
   },
   "outputs": [],
   "source": [
    "g.save('olas01.png', dpi=600)"
   ]
  },
  {
   "cell_type": "code",
   "execution_count": null,
   "id": "a6e5886f",
   "metadata": {},
   "outputs": [],
   "source": [
    "g + theme(axis_text_x = element_text(angle = -45, \n",
    "                                     vjust = 1))"
   ]
  },
  {
   "cell_type": "code",
   "execution_count": null,
   "id": "67c5a254",
   "metadata": {},
   "outputs": [],
   "source": [
    "(\n",
    "    ggplot(covid3)  # What data to use\n",
    "    + aes(x = \"fecha\", \n",
    "          y = \"num_casos\",\n",
    "          color = 'sexo')  # What variable to use\n",
    "    + geom_line()  # Geometric object to use for drawing\n",
    ")"
   ]
  },
  {
   "cell_type": "code",
   "execution_count": null,
   "id": "5d939139",
   "metadata": {},
   "outputs": [],
   "source": [
    "(\n",
    "    ggplot(covid3)  # What data to use\n",
    "    + aes(x = \"fecha\", \n",
    "          y = \"num_casos\",\n",
    "          color = 'sexo')  # What variable to use\n",
    "    + geom_smooth(method = \"lowess\", \n",
    "                  span = 0.05)  # Geometric object to use for drawing\n",
    ")"
   ]
  },
  {
   "cell_type": "code",
   "execution_count": null,
   "id": "76e096e5",
   "metadata": {},
   "outputs": [],
   "source": [
    "(\n",
    "    ggplot(covid3)  # What data to use\n",
    "    + aes(x = \"fecha\", \n",
    "          y = \"num_uci\",\n",
    "          color = 'sexo')  # What variable to use\n",
    "    + geom_smooth(method = \"lowess\", \n",
    "                  span = 0.10)  # Geometric object to use for drawing\n",
    ")"
   ]
  },
  {
   "cell_type": "code",
   "execution_count": null,
   "id": "fa172fd3",
   "metadata": {},
   "outputs": [],
   "source": [
    "(\n",
    "    ggplot(covid3)  # What data to use\n",
    "    + aes(x = \"fecha\", \n",
    "          y = \"num_def\",\n",
    "          color = 'sexo')  # What variable to use\n",
    "    + geom_smooth(method = \"loess\", \n",
    "                  span = 0.05)  # Geometric object to use for drawing\n",
    ")"
   ]
  },
  {
   "cell_type": "code",
   "execution_count": null,
   "id": "8fc0f5c2",
   "metadata": {},
   "outputs": [],
   "source": []
  }
 ],
 "metadata": {
  "kernelspec": {
   "display_name": "Python 3 (ipykernel)",
   "language": "python",
   "name": "python3"
  },
  "language_info": {
   "codemirror_mode": {
    "name": "ipython",
    "version": 3
   },
   "file_extension": ".py",
   "mimetype": "text/x-python",
   "name": "python",
   "nbconvert_exporter": "python",
   "pygments_lexer": "ipython3",
   "version": "3.10.12"
  }
 },
 "nbformat": 4,
 "nbformat_minor": 5
}
