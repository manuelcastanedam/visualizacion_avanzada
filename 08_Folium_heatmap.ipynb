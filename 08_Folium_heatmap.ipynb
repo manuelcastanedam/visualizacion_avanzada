{
 "cells": [
  {
   "cell_type": "markdown",
   "id": "0f812401",
   "metadata": {},
   "source": [
    "# Master BigData UCM 2023"
   ]
  },
  {
   "cell_type": "markdown",
   "id": "6833d36a",
   "metadata": {
    "id": "6833d36a"
   },
   "source": [
    "## 8. Mapas con leaflet / Folium\n",
    "\n"
   ]
  },
  {
   "cell_type": "code",
   "execution_count": 1,
   "id": "2f22ebd3",
   "metadata": {},
   "outputs": [],
   "source": [
    "import folium\n",
    "from folium.plugins import HeatMap\n",
    "\n",
    "import numpy as np"
   ]
  },
  {
   "cell_type": "code",
   "execution_count": 2,
   "id": "b66088e0",
   "metadata": {},
   "outputs": [],
   "source": [
    "data = (\n",
    "    np.random.normal(size=(100, 3)) * np.array([[1, 1, 1]]) + np.array([[48, 5, 1]])\n",
    ").tolist()"
   ]
  },
  {
   "cell_type": "code",
   "execution_count": 4,
   "id": "7fe80cfc",
   "metadata": {},
   "outputs": [
    {
     "data": {
      "text/html": [
       "<div style=\"width:100%;\"><div style=\"position:relative;width:100%;height:0;padding-bottom:60%;\"><span style=\"color:#565656\">Make this Notebook Trusted to load map: File -> Trust Notebook</span><iframe srcdoc=\"&lt;!DOCTYPE html&gt;\n",
       "&lt;html&gt;\n",
       "&lt;head&gt;\n",
       "    \n",
       "    &lt;meta http-equiv=&quot;content-type&quot; content=&quot;text/html; charset=UTF-8&quot; /&gt;\n",
       "    \n",
       "        &lt;script&gt;\n",
       "            L_NO_TOUCH = false;\n",
       "            L_DISABLE_3D = false;\n",
       "        &lt;/script&gt;\n",
       "    \n",
       "    &lt;style&gt;html, body {width: 100%;height: 100%;margin: 0;padding: 0;}&lt;/style&gt;\n",
       "    &lt;style&gt;#map {position:absolute;top:0;bottom:0;right:0;left:0;}&lt;/style&gt;\n",
       "    &lt;script src=&quot;https://cdn.jsdelivr.net/npm/leaflet@1.9.3/dist/leaflet.js&quot;&gt;&lt;/script&gt;\n",
       "    &lt;script src=&quot;https://code.jquery.com/jquery-1.12.4.min.js&quot;&gt;&lt;/script&gt;\n",
       "    &lt;script src=&quot;https://cdn.jsdelivr.net/npm/bootstrap@5.2.2/dist/js/bootstrap.bundle.min.js&quot;&gt;&lt;/script&gt;\n",
       "    &lt;script src=&quot;https://cdnjs.cloudflare.com/ajax/libs/Leaflet.awesome-markers/2.0.2/leaflet.awesome-markers.js&quot;&gt;&lt;/script&gt;\n",
       "    &lt;link rel=&quot;stylesheet&quot; href=&quot;https://cdn.jsdelivr.net/npm/leaflet@1.9.3/dist/leaflet.css&quot;/&gt;\n",
       "    &lt;link rel=&quot;stylesheet&quot; href=&quot;https://cdn.jsdelivr.net/npm/bootstrap@5.2.2/dist/css/bootstrap.min.css&quot;/&gt;\n",
       "    &lt;link rel=&quot;stylesheet&quot; href=&quot;https://netdna.bootstrapcdn.com/bootstrap/3.0.0/css/bootstrap.min.css&quot;/&gt;\n",
       "    &lt;link rel=&quot;stylesheet&quot; href=&quot;https://cdn.jsdelivr.net/npm/@fortawesome/fontawesome-free@6.2.0/css/all.min.css&quot;/&gt;\n",
       "    &lt;link rel=&quot;stylesheet&quot; href=&quot;https://cdnjs.cloudflare.com/ajax/libs/Leaflet.awesome-markers/2.0.2/leaflet.awesome-markers.css&quot;/&gt;\n",
       "    &lt;link rel=&quot;stylesheet&quot; href=&quot;https://cdn.jsdelivr.net/gh/python-visualization/folium/folium/templates/leaflet.awesome.rotate.min.css&quot;/&gt;\n",
       "    \n",
       "            &lt;meta name=&quot;viewport&quot; content=&quot;width=device-width,\n",
       "                initial-scale=1.0, maximum-scale=1.0, user-scalable=no&quot; /&gt;\n",
       "            &lt;style&gt;\n",
       "                #map_7ec5555db006a02069193e351700f6ab {\n",
       "                    position: relative;\n",
       "                    width: 100.0%;\n",
       "                    height: 100.0%;\n",
       "                    left: 0.0%;\n",
       "                    top: 0.0%;\n",
       "                }\n",
       "                .leaflet-container { font-size: 1rem; }\n",
       "            &lt;/style&gt;\n",
       "        \n",
       "    &lt;script src=&quot;https://cdn.jsdelivr.net/gh/python-visualization/folium@main/folium/templates/leaflet_heat.min.js&quot;&gt;&lt;/script&gt;\n",
       "&lt;/head&gt;\n",
       "&lt;body&gt;\n",
       "    \n",
       "    \n",
       "            &lt;div class=&quot;folium-map&quot; id=&quot;map_7ec5555db006a02069193e351700f6ab&quot; &gt;&lt;/div&gt;\n",
       "        \n",
       "&lt;/body&gt;\n",
       "&lt;script&gt;\n",
       "    \n",
       "    \n",
       "            var map_7ec5555db006a02069193e351700f6ab = L.map(\n",
       "                &quot;map_7ec5555db006a02069193e351700f6ab&quot;,\n",
       "                {\n",
       "                    center: [48.0, 5.0],\n",
       "                    crs: L.CRS.EPSG3857,\n",
       "                    zoom: 6,\n",
       "                    zoomControl: true,\n",
       "                    preferCanvas: false,\n",
       "                }\n",
       "            );\n",
       "\n",
       "            \n",
       "\n",
       "        \n",
       "    \n",
       "            var tile_layer_921edafcddaa4228bfffb2dc97c9004b = L.tileLayer(\n",
       "                &quot;https://{s}.tile.openstreetmap.org/{z}/{x}/{y}.png&quot;,\n",
       "                {&quot;attribution&quot;: &quot;Data by \\u0026copy; \\u003ca target=\\&quot;_blank\\&quot; href=\\&quot;http://openstreetmap.org\\&quot;\\u003eOpenStreetMap\\u003c/a\\u003e, under \\u003ca target=\\&quot;_blank\\&quot; href=\\&quot;http://www.openstreetmap.org/copyright\\&quot;\\u003eODbL\\u003c/a\\u003e.&quot;, &quot;detectRetina&quot;: false, &quot;maxNativeZoom&quot;: 18, &quot;maxZoom&quot;: 18, &quot;minZoom&quot;: 0, &quot;noWrap&quot;: false, &quot;opacity&quot;: 1, &quot;subdomains&quot;: &quot;abc&quot;, &quot;tms&quot;: false}\n",
       "            ).addTo(map_7ec5555db006a02069193e351700f6ab);\n",
       "        \n",
       "    \n",
       "            var heat_map_cf2427cf430f2e9d67f26dfda288cda9 = L.heatLayer(\n",
       "                [[48.639127797738304, 6.523990644769505, 1.5754008625623808], [46.279328702382735, 3.86503667322087, 0.7279895288406926], [48.40973011950182, 3.4592890431700916, 1.5115888527608512], [48.30011059573092, 4.609794831329432, 1.6363076054331063], [46.82377952332462, 5.408599792597991, 0.7530401844825473], [48.51746691381672, 5.838602059284865, 1.3756989244057818], [47.33583429072954, 5.722137700282975, 3.387662957172678], [48.99674532866743, 4.833161533643251, -0.044966994433863094], [48.5363899684716, 6.627014197320329, 0.7854398877736325], [49.27199228334961, 2.5951104814475237, 0.48209185060340765], [48.56883136195307, 5.877651397454963, -0.3580661664774194], [49.04272160305396, 5.1135971411121846, 1.898963578700576], [49.40285674614122, 3.4853067091569754, 0.8969276088294541], [47.52381655581465, 3.55654790163926, 1.581269797209751], [47.61318068098312, 3.9070059494927927, -2.081230511689756], [47.92559823660652, 4.264321838316862, -0.26372238350074584], [48.15204253856084, 3.4505297325707094, -0.804581628902098], [47.5138118182542, 5.021876425257002, 2.245224382765704], [49.474289486170484, 4.540174356890496, 1.139250311099755], [48.66967918487316, 6.242611000736983, 2.2486871788399494], [49.51615934928037, 6.970427487504699, 0.2591065483893832], [47.43193844772175, 5.299699451008765, 3.244926667609601], [48.22646753077223, 5.020989699776622, -0.4737598111540653], [47.17772033635996, 4.390622109832037, 0.8773598827945516], [47.765965048243594, 4.4250394986396655, 2.494921108373309], [47.58582946327751, 4.742222341286503, 1.6932732023468908], [47.69543630359086, 4.274636798447806, 1.1775694382903885], [48.590052012779296, 5.732548608852935, 1.339582084230645], [47.724417226820485, 4.31636824502441, 1.4870691050294165], [47.462198577381955, 2.6807351828063073, 1.796739889806244], [47.20203033570638, 5.019283582534815, 2.1407696561070857], [46.8748655013108, 5.656802744667498, 1.8229608798319044], [48.264561698349866, 6.074028139760224, 1.0631109004817436], [47.89486438254293, 5.881392533639891, 2.1771598203024345], [49.010408802555155, 3.371478544041817, 0.5923107430658607], [46.7151658586803, 4.597946769665746, 1.3320082930983126], [47.44991414443598, 5.971707847950027, 2.1327798640292377], [47.538228922467034, 5.614933291328468, 0.023683991371544866], [46.46800320901468, 4.217801180500736, 0.7299596610028966], [46.762407785975704, 6.18179001412281, 0.9325759733415286], [48.58709361644589, 5.438245985343209, -0.14236457535290525], [47.469981787591465, 4.985450366508791, 1.5043852507756148], [50.67346902356326, 3.769808316132443, 0.6362175810210825], [48.251708863895765, 5.824811590838296, -0.4212585562185225], [46.92500767707361, 2.3749965749733564, 1.1656790651988718], [48.722673975211414, 3.5478378718394357, 1.4528309154808863], [48.239277314425294, 4.148279611237291, 2.494613533750546], [49.46277612491129, 6.842862126345665, 1.6743037679245765], [48.45766571910031, 6.191036685462558, 2.420959223747249], [49.53986057839697, 4.696322839154139, 1.0150385449447423], [48.54114655134978, 5.630067748976381, 0.8437305596168033], [48.50421122012083, 4.749020041540592, 2.5189991194702843], [47.93011510794252, 5.727816278451073, 1.2797052137718818], [49.0766226001622, 3.542829203803297, 0.5396050428385353], [49.47039242847066, 5.712632075054071, 1.5410459029134396], [46.91445918274988, 4.27459914102439, -0.17393799583198732], [47.69466984488164, 6.86901396387029, 1.3022930595540585], [45.914140367281604, 6.322398663194418, 1.7396671171979816], [48.610519972034666, 5.043114229875087, 2.2748022917649946], [49.12029341797257, 5.8263701656769324, -0.23555337598815274], [48.97123747626048, 5.494856711023516, 1.42384306971281], [48.35569992204624, 5.992623734931375, 3.383139943524961], [47.74254476470474, 5.649077658685575, 0.3779179734849061], [46.85718479581188, 6.036624187200693, 0.8119888702830708], [48.60580106633839, 5.882982515352894, -0.9747877030914518], [47.66963062893212, 4.18581587631658, 0.8480911939085873], [47.57983242838331, 5.388957246581272, 0.8394954008193287], [48.168664784838576, 4.79095691318108, 0.6943798255718743], [48.27213905074591, 5.387925788655766, 1.9201054345388635], [48.52607012712785, 6.02250632148821, 1.4740635425252866], [48.53138967895112, 6.465969298278937, 0.5373043919309628], [47.11671517502343, 5.890282852136495, 2.086157034284861], [47.583419060157944, 3.7200350891510623, 0.9176837422987767], [47.85169458008563, 4.018420434023757, -0.511955643904972], [44.73173246569995, 2.918579391458957, 2.074581284811029], [48.09576018471891, 3.5224498265393, 1.4836824469709424], [48.845950554221695, 4.397114628439983, 2.366043240335075], [47.704708409231, 4.539239815309523, 0.6609699583902153], [48.48198087743597, 5.627909496811314, 1.119876597090993], [48.48758487152635, 5.85397675681289, 0.0377977224493673], [47.49460380491969, 5.398997994874817, -0.0006704790599958432], [48.046534374612165, 4.792147794900823, 1.6382963344402475], [48.314542295975336, 6.308338563435976, 0.12913109192004624], [47.909360831320974, 4.3941184519999705, 2.022280741011455], [48.584490619694634, 5.147929796952626, -1.013902301551206], [47.9205090525011, 3.1231813578029017, 1.5412195350722024], [48.686406949878666, 6.2636261711924615, 0.9027495671597866], [49.0232761198623, 4.486282714318521, 0.8086656802067903], [48.17923765857266, 4.896723049435212, 3.1756341291938477], [47.54211424096294, 6.634527013817741, 0.9858474191326838], [48.112415815752485, 5.336674393247717, 1.6319483749053765], [47.408011262779915, 7.41928783503041, 0.37176556485138035], [47.35234217695058, 5.036935146466987, 0.7698635752135183], [49.37456868964411, 6.176824112489568, -0.4129093968830142], [48.55217881352933, 5.469170195773931, 1.0114522862350765], [46.31024172712018, 3.3575457531877033, 0.32638244927497895], [46.8960045698956, 4.4600426298813, -0.5153727950526112], [48.64794774622338, 3.9725167126000205, 0.3822665600306172], [49.845609961264955, 5.082746019314985, 1.919444889035676], [48.07348232440253, 5.850784731429145, 0.1996387763037637]],\n",
       "                {&quot;blur&quot;: 15, &quot;maxZoom&quot;: 18, &quot;minOpacity&quot;: 0.5, &quot;radius&quot;: 25}\n",
       "            ).addTo(map_7ec5555db006a02069193e351700f6ab);\n",
       "        \n",
       "&lt;/script&gt;\n",
       "&lt;/html&gt;\" style=\"position:absolute;width:100%;height:100%;left:0;top:0;border:none !important;\" allowfullscreen webkitallowfullscreen mozallowfullscreen></iframe></div></div>"
      ],
      "text/plain": [
       "<folium.folium.Map at 0x7fd3bbec29b0>"
      ]
     },
     "execution_count": 4,
     "metadata": {},
     "output_type": "execute_result"
    }
   ],
   "source": [
    "m = folium.Map([48.0, 5.0], \n",
    "#               tiles=\"stamentoner\", \n",
    "               zoom_start=6)\n",
    "\n",
    "HeatMap(data).add_to(m)\n",
    "\n",
    "m"
   ]
  }
 ],
 "metadata": {
  "kernelspec": {
   "display_name": "Python 3 (ipykernel)",
   "language": "python",
   "name": "python3"
  },
  "language_info": {
   "codemirror_mode": {
    "name": "ipython",
    "version": 3
   },
   "file_extension": ".py",
   "mimetype": "text/x-python",
   "name": "python",
   "nbconvert_exporter": "python",
   "pygments_lexer": "ipython3",
   "version": "3.10.12"
  }
 },
 "nbformat": 4,
 "nbformat_minor": 5
}
